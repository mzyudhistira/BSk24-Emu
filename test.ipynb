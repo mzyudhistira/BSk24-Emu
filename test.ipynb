{
 "cells": [
  {
   "cell_type": "code",
   "execution_count": 2,
   "metadata": {},
   "outputs": [
    {
     "name": "stderr",
     "output_type": "stream",
     "text": [
      "2024-12-09 12:25:37.412379: I tensorflow/core/util/port.cc:153] oneDNN custom operations are on. You may see slightly different numerical results due to floating-point round-off errors from different computation orders. To turn them off, set the environment variable `TF_ENABLE_ONEDNN_OPTS=0`.\n",
      "2024-12-09 12:25:37.489294: E external/local_xla/xla/stream_executor/cuda/cuda_fft.cc:485] Unable to register cuFFT factory: Attempting to register factory for plugin cuFFT when one has already been registered\n",
      "2024-12-09 12:25:37.506415: E external/local_xla/xla/stream_executor/cuda/cuda_dnn.cc:8454] Unable to register cuDNN factory: Attempting to register factory for plugin cuDNN when one has already been registered\n",
      "2024-12-09 12:25:37.512232: E external/local_xla/xla/stream_executor/cuda/cuda_blas.cc:1452] Unable to register cuBLAS factory: Attempting to register factory for plugin cuBLAS when one has already been registered\n",
      "2024-12-09 12:25:37.568584: I tensorflow/core/platform/cpu_feature_guard.cc:210] This TensorFlow binary is optimized to use available CPU instructions in performance-critical operations.\n",
      "To enable the following instructions: SSE4.1 SSE4.2 AVX AVX2 AVX512F AVX512_VNNI FMA, in other operations, rebuild TensorFlow with the appropriate compiler flags.\n"
     ]
    }
   ],
   "source": [
    "\"\"\"\n",
    "Load required libraries\n",
    "\"\"\"\n",
    "# External libraries\n",
    "import pandas as pd\n",
    "import numpy as np\n",
    "import sys\n",
    "import ast\n",
    "\n",
    "# Internal libraries\n",
    "import input\n",
    "import model\n",
    "import training\n",
    "import output\n",
    "import utils"
   ]
  },
  {
   "cell_type": "code",
   "execution_count": 3,
   "metadata": {},
   "outputs": [
    {
     "data": {
      "text/html": [
       "<div>\n",
       "<style scoped>\n",
       "    .dataframe tbody tr th:only-of-type {\n",
       "        vertical-align: middle;\n",
       "    }\n",
       "\n",
       "    .dataframe tbody tr th {\n",
       "        vertical-align: top;\n",
       "    }\n",
       "\n",
       "    .dataframe thead th {\n",
       "        text-align: right;\n",
       "    }\n",
       "</style>\n",
       "<table border=\"1\" class=\"dataframe\">\n",
       "  <thead>\n",
       "    <tr style=\"text-align: right;\">\n",
       "      <th></th>\n",
       "      <th>varian_id</th>\n",
       "      <th>param(01)</th>\n",
       "      <th>param(02)</th>\n",
       "      <th>param(03)</th>\n",
       "      <th>param(04)</th>\n",
       "      <th>param(05)</th>\n",
       "      <th>param(06)</th>\n",
       "      <th>param(07)</th>\n",
       "      <th>param(08)</th>\n",
       "      <th>param(09)</th>\n",
       "      <th>...</th>\n",
       "      <th>sigma_L</th>\n",
       "      <th>M*s</th>\n",
       "      <th>&lt;M*s&gt;</th>\n",
       "      <th>sigma_M*s</th>\n",
       "      <th>M*v</th>\n",
       "      <th>&lt;M*v&gt;</th>\n",
       "      <th>sigma_M*v</th>\n",
       "      <th>rms</th>\n",
       "      <th>&lt;rms&gt;</th>\n",
       "      <th>sigma_rms</th>\n",
       "    </tr>\n",
       "  </thead>\n",
       "  <tbody>\n",
       "    <tr>\n",
       "      <th>0</th>\n",
       "      <td>1</td>\n",
       "      <td>-3970.301</td>\n",
       "      <td>395.8715</td>\n",
       "      <td>0.00001</td>\n",
       "      <td>22648.46</td>\n",
       "      <td>-100.1343</td>\n",
       "      <td>-149.9985</td>\n",
       "      <td>0.894522</td>\n",
       "      <td>0.064016</td>\n",
       "      <td>-138961900.0</td>\n",
       "      <td>...</td>\n",
       "      <td>0.0</td>\n",
       "      <td>0.799926</td>\n",
       "      <td>0.799926</td>\n",
       "      <td>0.0</td>\n",
       "      <td>0.715061</td>\n",
       "      <td>0.715061</td>\n",
       "      <td>0.0</td>\n",
       "      <td>1.733691</td>\n",
       "      <td>1.733691</td>\n",
       "      <td>0.0</td>\n",
       "    </tr>\n",
       "  </tbody>\n",
       "</table>\n",
       "<p>1 rows × 46 columns</p>\n",
       "</div>"
      ],
      "text/plain": [
       "   varian_id  param(01)  param(02)  param(03)  param(04)  param(05)  \\\n",
       "0          1  -3970.301   395.8715    0.00001   22648.46  -100.1343   \n",
       "\n",
       "   param(06)  param(07)  param(08)    param(09)  ...  sigma_L       M*s  \\\n",
       "0  -149.9985   0.894522   0.064016 -138961900.0  ...      0.0  0.799926   \n",
       "\n",
       "      <M*s>  sigma_M*s       M*v     <M*v>  sigma_M*v       rms     <rms>  \\\n",
       "0  0.799926        0.0  0.715061  0.715061        0.0  1.733691  1.733691   \n",
       "\n",
       "   sigma_rms  \n",
       "0        0.0  \n",
       "\n",
       "[1 rows x 46 columns]"
      ]
     },
     "execution_count": 3,
     "metadata": {},
     "output_type": "execute_result"
    }
   ],
   "source": [
    "input.BSk24_VARIANS[input.BSk24_VARIANS['varian_id']==1]"
   ]
  },
  {
   "cell_type": "code",
   "execution_count": 4,
   "metadata": {},
   "outputs": [
    {
     "data": {
      "text/html": [
       "<div>\n",
       "<style scoped>\n",
       "    .dataframe tbody tr th:only-of-type {\n",
       "        vertical-align: middle;\n",
       "    }\n",
       "\n",
       "    .dataframe tbody tr th {\n",
       "        vertical-align: top;\n",
       "    }\n",
       "\n",
       "    .dataframe thead th {\n",
       "        text-align: right;\n",
       "    }\n",
       "</style>\n",
       "<table border=\"1\" class=\"dataframe\">\n",
       "  <thead>\n",
       "    <tr style=\"text-align: right;\">\n",
       "      <th></th>\n",
       "      <th>Z</th>\n",
       "      <th>N</th>\n",
       "      <th>A</th>\n",
       "      <th>m</th>\n",
       "    </tr>\n",
       "  </thead>\n",
       "  <tbody>\n",
       "    <tr>\n",
       "      <th>0</th>\n",
       "      <td>8</td>\n",
       "      <td>8</td>\n",
       "      <td>16</td>\n",
       "      <td>-2.75</td>\n",
       "    </tr>\n",
       "    <tr>\n",
       "      <th>1</th>\n",
       "      <td>8</td>\n",
       "      <td>9</td>\n",
       "      <td>17</td>\n",
       "      <td>1.27</td>\n",
       "    </tr>\n",
       "    <tr>\n",
       "      <th>2</th>\n",
       "      <td>8</td>\n",
       "      <td>10</td>\n",
       "      <td>18</td>\n",
       "      <td>0.93</td>\n",
       "    </tr>\n",
       "    <tr>\n",
       "      <th>3</th>\n",
       "      <td>8</td>\n",
       "      <td>11</td>\n",
       "      <td>19</td>\n",
       "      <td>5.15</td>\n",
       "    </tr>\n",
       "    <tr>\n",
       "      <th>4</th>\n",
       "      <td>8</td>\n",
       "      <td>12</td>\n",
       "      <td>20</td>\n",
       "      <td>3.24</td>\n",
       "    </tr>\n",
       "    <tr>\n",
       "      <th>...</th>\n",
       "      <td>...</td>\n",
       "      <td>...</td>\n",
       "      <td>...</td>\n",
       "      <td>...</td>\n",
       "    </tr>\n",
       "    <tr>\n",
       "      <th>8387</th>\n",
       "      <td>110</td>\n",
       "      <td>246</td>\n",
       "      <td>356</td>\n",
       "      <td>532.90</td>\n",
       "    </tr>\n",
       "    <tr>\n",
       "      <th>8388</th>\n",
       "      <td>110</td>\n",
       "      <td>247</td>\n",
       "      <td>357</td>\n",
       "      <td>540.13</td>\n",
       "    </tr>\n",
       "    <tr>\n",
       "      <th>8389</th>\n",
       "      <td>110</td>\n",
       "      <td>248</td>\n",
       "      <td>358</td>\n",
       "      <td>548.25</td>\n",
       "    </tr>\n",
       "    <tr>\n",
       "      <th>8390</th>\n",
       "      <td>110</td>\n",
       "      <td>249</td>\n",
       "      <td>359</td>\n",
       "      <td>555.30</td>\n",
       "    </tr>\n",
       "    <tr>\n",
       "      <th>8391</th>\n",
       "      <td>110</td>\n",
       "      <td>250</td>\n",
       "      <td>360</td>\n",
       "      <td>563.45</td>\n",
       "    </tr>\n",
       "  </tbody>\n",
       "</table>\n",
       "<p>8392 rows × 4 columns</p>\n",
       "</div>"
      ],
      "text/plain": [
       "        Z    N    A       m\n",
       "0       8    8   16   -2.75\n",
       "1       8    9   17    1.27\n",
       "2       8   10   18    0.93\n",
       "3       8   11   19    5.15\n",
       "4       8   12   20    3.24\n",
       "...   ...  ...  ...     ...\n",
       "8387  110  246  356  532.90\n",
       "8388  110  247  357  540.13\n",
       "8389  110  248  358  548.25\n",
       "8390  110  249  359  555.30\n",
       "8391  110  250  360  563.45\n",
       "\n",
       "[8392 rows x 4 columns]"
      ]
     },
     "execution_count": 4,
     "metadata": {},
     "output_type": "execute_result"
    }
   ],
   "source": [
    "input.BSk24_MASS_TABLE"
   ]
  },
  {
   "cell_type": "code",
   "execution_count": 5,
   "metadata": {},
   "outputs": [
    {
     "data": {
      "text/html": [
       "<div>\n",
       "<style scoped>\n",
       "    .dataframe tbody tr th:only-of-type {\n",
       "        vertical-align: middle;\n",
       "    }\n",
       "\n",
       "    .dataframe tbody tr th {\n",
       "        vertical-align: top;\n",
       "    }\n",
       "\n",
       "    .dataframe thead th {\n",
       "        text-align: right;\n",
       "    }\n",
       "</style>\n",
       "<table border=\"1\" class=\"dataframe\">\n",
       "  <thead>\n",
       "    <tr style=\"text-align: right;\">\n",
       "      <th></th>\n",
       "      <th>varian_id</th>\n",
       "      <th>Z</th>\n",
       "      <th>N</th>\n",
       "      <th>A</th>\n",
       "      <th>m</th>\n",
       "      <th>param(01)</th>\n",
       "      <th>param(02)</th>\n",
       "      <th>param(03)</th>\n",
       "      <th>param(04)</th>\n",
       "      <th>param(05)</th>\n",
       "      <th>...</th>\n",
       "      <th>sigma_L</th>\n",
       "      <th>M*s</th>\n",
       "      <th>&lt;M*s&gt;</th>\n",
       "      <th>sigma_M*s</th>\n",
       "      <th>M*v</th>\n",
       "      <th>&lt;M*v&gt;</th>\n",
       "      <th>sigma_M*v</th>\n",
       "      <th>rms</th>\n",
       "      <th>&lt;rms&gt;</th>\n",
       "      <th>sigma_rms</th>\n",
       "    </tr>\n",
       "  </thead>\n",
       "  <tbody>\n",
       "    <tr>\n",
       "      <th>0</th>\n",
       "      <td>1</td>\n",
       "      <td>8</td>\n",
       "      <td>13</td>\n",
       "      <td>21</td>\n",
       "      <td>6.653146</td>\n",
       "      <td>-3970.301</td>\n",
       "      <td>395.8715</td>\n",
       "      <td>0.00001</td>\n",
       "      <td>22648.46</td>\n",
       "      <td>-100.1343</td>\n",
       "      <td>...</td>\n",
       "      <td>0.00000</td>\n",
       "      <td>0.799926</td>\n",
       "      <td>0.799926</td>\n",
       "      <td>0.000000</td>\n",
       "      <td>0.715061</td>\n",
       "      <td>0.715061</td>\n",
       "      <td>0.000000</td>\n",
       "      <td>1.733691</td>\n",
       "      <td>1.733691</td>\n",
       "      <td>0.000000</td>\n",
       "    </tr>\n",
       "    <tr>\n",
       "      <th>1</th>\n",
       "      <td>1</td>\n",
       "      <td>8</td>\n",
       "      <td>16</td>\n",
       "      <td>24</td>\n",
       "      <td>15.525280</td>\n",
       "      <td>-3970.301</td>\n",
       "      <td>395.8715</td>\n",
       "      <td>0.00001</td>\n",
       "      <td>22648.46</td>\n",
       "      <td>-100.1343</td>\n",
       "      <td>...</td>\n",
       "      <td>0.00000</td>\n",
       "      <td>0.799926</td>\n",
       "      <td>0.799926</td>\n",
       "      <td>0.000000</td>\n",
       "      <td>0.715061</td>\n",
       "      <td>0.715061</td>\n",
       "      <td>0.000000</td>\n",
       "      <td>1.733691</td>\n",
       "      <td>1.733691</td>\n",
       "      <td>0.000000</td>\n",
       "    </tr>\n",
       "    <tr>\n",
       "      <th>2</th>\n",
       "      <td>1</td>\n",
       "      <td>9</td>\n",
       "      <td>14</td>\n",
       "      <td>23</td>\n",
       "      <td>-0.606974</td>\n",
       "      <td>-3970.301</td>\n",
       "      <td>395.8715</td>\n",
       "      <td>0.00001</td>\n",
       "      <td>22648.46</td>\n",
       "      <td>-100.1343</td>\n",
       "      <td>...</td>\n",
       "      <td>0.00000</td>\n",
       "      <td>0.799926</td>\n",
       "      <td>0.799926</td>\n",
       "      <td>0.000000</td>\n",
       "      <td>0.715061</td>\n",
       "      <td>0.715061</td>\n",
       "      <td>0.000000</td>\n",
       "      <td>1.733691</td>\n",
       "      <td>1.733691</td>\n",
       "      <td>0.000000</td>\n",
       "    </tr>\n",
       "    <tr>\n",
       "      <th>3</th>\n",
       "      <td>1</td>\n",
       "      <td>9</td>\n",
       "      <td>17</td>\n",
       "      <td>26</td>\n",
       "      <td>14.968190</td>\n",
       "      <td>-3970.301</td>\n",
       "      <td>395.8715</td>\n",
       "      <td>0.00001</td>\n",
       "      <td>22648.46</td>\n",
       "      <td>-100.1343</td>\n",
       "      <td>...</td>\n",
       "      <td>0.00000</td>\n",
       "      <td>0.799926</td>\n",
       "      <td>0.799926</td>\n",
       "      <td>0.000000</td>\n",
       "      <td>0.715061</td>\n",
       "      <td>0.715061</td>\n",
       "      <td>0.000000</td>\n",
       "      <td>1.733691</td>\n",
       "      <td>1.733691</td>\n",
       "      <td>0.000000</td>\n",
       "    </tr>\n",
       "    <tr>\n",
       "      <th>4</th>\n",
       "      <td>1</td>\n",
       "      <td>10</td>\n",
       "      <td>14</td>\n",
       "      <td>24</td>\n",
       "      <td>-8.670079</td>\n",
       "      <td>-3970.301</td>\n",
       "      <td>395.8715</td>\n",
       "      <td>0.00001</td>\n",
       "      <td>22648.46</td>\n",
       "      <td>-100.1343</td>\n",
       "      <td>...</td>\n",
       "      <td>0.00000</td>\n",
       "      <td>0.799926</td>\n",
       "      <td>0.799926</td>\n",
       "      <td>0.000000</td>\n",
       "      <td>0.715061</td>\n",
       "      <td>0.715061</td>\n",
       "      <td>0.000000</td>\n",
       "      <td>1.733691</td>\n",
       "      <td>1.733691</td>\n",
       "      <td>0.000000</td>\n",
       "    </tr>\n",
       "    <tr>\n",
       "      <th>...</th>\n",
       "      <td>...</td>\n",
       "      <td>...</td>\n",
       "      <td>...</td>\n",
       "      <td>...</td>\n",
       "      <td>...</td>\n",
       "      <td>...</td>\n",
       "      <td>...</td>\n",
       "      <td>...</td>\n",
       "      <td>...</td>\n",
       "      <td>...</td>\n",
       "      <td>...</td>\n",
       "      <td>...</td>\n",
       "      <td>...</td>\n",
       "      <td>...</td>\n",
       "      <td>...</td>\n",
       "      <td>...</td>\n",
       "      <td>...</td>\n",
       "      <td>...</td>\n",
       "      <td>...</td>\n",
       "      <td>...</td>\n",
       "      <td>...</td>\n",
       "    </tr>\n",
       "    <tr>\n",
       "      <th>7285</th>\n",
       "      <td>10</td>\n",
       "      <td>103</td>\n",
       "      <td>153</td>\n",
       "      <td>256</td>\n",
       "      <td>89.304250</td>\n",
       "      <td>-3970.313</td>\n",
       "      <td>395.8304</td>\n",
       "      <td>0.00001</td>\n",
       "      <td>22648.83</td>\n",
       "      <td>-100.2015</td>\n",
       "      <td>...</td>\n",
       "      <td>0.78071</td>\n",
       "      <td>0.800058</td>\n",
       "      <td>0.799994</td>\n",
       "      <td>0.000062</td>\n",
       "      <td>0.717442</td>\n",
       "      <td>0.713625</td>\n",
       "      <td>0.001992</td>\n",
       "      <td>1.398419</td>\n",
       "      <td>1.488712</td>\n",
       "      <td>0.524705</td>\n",
       "    </tr>\n",
       "    <tr>\n",
       "      <th>7286</th>\n",
       "      <td>10</td>\n",
       "      <td>104</td>\n",
       "      <td>154</td>\n",
       "      <td>258</td>\n",
       "      <td>95.046090</td>\n",
       "      <td>-3970.313</td>\n",
       "      <td>395.8304</td>\n",
       "      <td>0.00001</td>\n",
       "      <td>22648.83</td>\n",
       "      <td>-100.2015</td>\n",
       "      <td>...</td>\n",
       "      <td>0.78071</td>\n",
       "      <td>0.800058</td>\n",
       "      <td>0.799994</td>\n",
       "      <td>0.000062</td>\n",
       "      <td>0.717442</td>\n",
       "      <td>0.713625</td>\n",
       "      <td>0.001992</td>\n",
       "      <td>1.398419</td>\n",
       "      <td>1.488712</td>\n",
       "      <td>0.524705</td>\n",
       "    </tr>\n",
       "    <tr>\n",
       "      <th>7287</th>\n",
       "      <td>10</td>\n",
       "      <td>106</td>\n",
       "      <td>154</td>\n",
       "      <td>260</td>\n",
       "      <td>105.307500</td>\n",
       "      <td>-3970.313</td>\n",
       "      <td>395.8304</td>\n",
       "      <td>0.00001</td>\n",
       "      <td>22648.83</td>\n",
       "      <td>-100.2015</td>\n",
       "      <td>...</td>\n",
       "      <td>0.78071</td>\n",
       "      <td>0.800058</td>\n",
       "      <td>0.799994</td>\n",
       "      <td>0.000062</td>\n",
       "      <td>0.717442</td>\n",
       "      <td>0.713625</td>\n",
       "      <td>0.001992</td>\n",
       "      <td>1.398419</td>\n",
       "      <td>1.488712</td>\n",
       "      <td>0.524705</td>\n",
       "    </tr>\n",
       "    <tr>\n",
       "      <th>7288</th>\n",
       "      <td>10</td>\n",
       "      <td>108</td>\n",
       "      <td>156</td>\n",
       "      <td>264</td>\n",
       "      <td>118.535500</td>\n",
       "      <td>-3970.313</td>\n",
       "      <td>395.8304</td>\n",
       "      <td>0.00001</td>\n",
       "      <td>22648.83</td>\n",
       "      <td>-100.2015</td>\n",
       "      <td>...</td>\n",
       "      <td>0.78071</td>\n",
       "      <td>0.800058</td>\n",
       "      <td>0.799994</td>\n",
       "      <td>0.000062</td>\n",
       "      <td>0.717442</td>\n",
       "      <td>0.713625</td>\n",
       "      <td>0.001992</td>\n",
       "      <td>1.398419</td>\n",
       "      <td>1.488712</td>\n",
       "      <td>0.524705</td>\n",
       "    </tr>\n",
       "    <tr>\n",
       "      <th>7289</th>\n",
       "      <td>10</td>\n",
       "      <td>110</td>\n",
       "      <td>159</td>\n",
       "      <td>269</td>\n",
       "      <td>131.752300</td>\n",
       "      <td>-3970.313</td>\n",
       "      <td>395.8304</td>\n",
       "      <td>0.00001</td>\n",
       "      <td>22648.83</td>\n",
       "      <td>-100.2015</td>\n",
       "      <td>...</td>\n",
       "      <td>0.78071</td>\n",
       "      <td>0.800058</td>\n",
       "      <td>0.799994</td>\n",
       "      <td>0.000062</td>\n",
       "      <td>0.717442</td>\n",
       "      <td>0.713625</td>\n",
       "      <td>0.001992</td>\n",
       "      <td>1.398419</td>\n",
       "      <td>1.488712</td>\n",
       "      <td>0.524705</td>\n",
       "    </tr>\n",
       "  </tbody>\n",
       "</table>\n",
       "<p>7290 rows × 50 columns</p>\n",
       "</div>"
      ],
      "text/plain": [
       "      varian_id    Z    N    A           m  param(01)  param(02)  param(03)  \\\n",
       "0             1    8   13   21    6.653146  -3970.301   395.8715    0.00001   \n",
       "1             1    8   16   24   15.525280  -3970.301   395.8715    0.00001   \n",
       "2             1    9   14   23   -0.606974  -3970.301   395.8715    0.00001   \n",
       "3             1    9   17   26   14.968190  -3970.301   395.8715    0.00001   \n",
       "4             1   10   14   24   -8.670079  -3970.301   395.8715    0.00001   \n",
       "...         ...  ...  ...  ...         ...        ...        ...        ...   \n",
       "7285         10  103  153  256   89.304250  -3970.313   395.8304    0.00001   \n",
       "7286         10  104  154  258   95.046090  -3970.313   395.8304    0.00001   \n",
       "7287         10  106  154  260  105.307500  -3970.313   395.8304    0.00001   \n",
       "7288         10  108  156  264  118.535500  -3970.313   395.8304    0.00001   \n",
       "7289         10  110  159  269  131.752300  -3970.313   395.8304    0.00001   \n",
       "\n",
       "      param(04)  param(05)  ...  sigma_L       M*s     <M*s>  sigma_M*s  \\\n",
       "0      22648.46  -100.1343  ...  0.00000  0.799926  0.799926   0.000000   \n",
       "1      22648.46  -100.1343  ...  0.00000  0.799926  0.799926   0.000000   \n",
       "2      22648.46  -100.1343  ...  0.00000  0.799926  0.799926   0.000000   \n",
       "3      22648.46  -100.1343  ...  0.00000  0.799926  0.799926   0.000000   \n",
       "4      22648.46  -100.1343  ...  0.00000  0.799926  0.799926   0.000000   \n",
       "...         ...        ...  ...      ...       ...       ...        ...   \n",
       "7285   22648.83  -100.2015  ...  0.78071  0.800058  0.799994   0.000062   \n",
       "7286   22648.83  -100.2015  ...  0.78071  0.800058  0.799994   0.000062   \n",
       "7287   22648.83  -100.2015  ...  0.78071  0.800058  0.799994   0.000062   \n",
       "7288   22648.83  -100.2015  ...  0.78071  0.800058  0.799994   0.000062   \n",
       "7289   22648.83  -100.2015  ...  0.78071  0.800058  0.799994   0.000062   \n",
       "\n",
       "           M*v     <M*v>  sigma_M*v       rms     <rms>  sigma_rms  \n",
       "0     0.715061  0.715061   0.000000  1.733691  1.733691   0.000000  \n",
       "1     0.715061  0.715061   0.000000  1.733691  1.733691   0.000000  \n",
       "2     0.715061  0.715061   0.000000  1.733691  1.733691   0.000000  \n",
       "3     0.715061  0.715061   0.000000  1.733691  1.733691   0.000000  \n",
       "4     0.715061  0.715061   0.000000  1.733691  1.733691   0.000000  \n",
       "...        ...       ...        ...       ...       ...        ...  \n",
       "7285  0.717442  0.713625   0.001992  1.398419  1.488712   0.524705  \n",
       "7286  0.717442  0.713625   0.001992  1.398419  1.488712   0.524705  \n",
       "7287  0.717442  0.713625   0.001992  1.398419  1.488712   0.524705  \n",
       "7288  0.717442  0.713625   0.001992  1.398419  1.488712   0.524705  \n",
       "7289  0.717442  0.713625   0.001992  1.398419  1.488712   0.524705  \n",
       "\n",
       "[7290 rows x 50 columns]"
      ]
     },
     "execution_count": 5,
     "metadata": {},
     "output_type": "execute_result"
    }
   ],
   "source": [
    "u = pd.merge(input.BSk24_VARIANS_MASS_TABLE, input.BSk24_VARIANS, on='varian_id')\n",
    "u"
   ]
  },
  {
   "cell_type": "code",
   "execution_count": 10,
   "metadata": {},
   "outputs": [
    {
     "data": {
      "text/plain": [
       "array([[-3.970301e+03,  3.958715e+02,  1.000058e-05, ...,  1.076115e+00,\n",
       "         1.084184e+00,  1.615400e+01],\n",
       "       [-3.970301e+03,  3.958715e+02,  1.000058e-05, ...,  1.076115e+00,\n",
       "         1.084184e+00,  1.615400e+01],\n",
       "       [-3.970301e+03,  3.958715e+02,  1.000058e-05, ...,  1.076115e+00,\n",
       "         1.084184e+00,  1.615400e+01],\n",
       "       ...,\n",
       "       [-3.970313e+03,  3.958304e+02,  1.000049e-05, ...,  1.092640e+00,\n",
       "         1.043076e+00,  1.633400e+01],\n",
       "       [-3.970313e+03,  3.958304e+02,  1.000049e-05, ...,  1.092640e+00,\n",
       "         1.043076e+00,  1.633400e+01],\n",
       "       [-3.970313e+03,  3.958304e+02,  1.000049e-05, ...,  1.092640e+00,\n",
       "         1.043076e+00,  1.633400e+01]])"
      ]
     },
     "execution_count": 10,
     "metadata": {},
     "output_type": "execute_result"
    }
   ],
   "source": [
    "u.iloc[:,5:26].to_numpy()"
   ]
  },
  {
   "cell_type": "code",
   "execution_count": 11,
   "metadata": {},
   "outputs": [
    {
     "data": {
      "text/plain": [
       "array([[-3.97029000e+03,  3.95766000e+02,  0.00000000e+00,\n",
       "         2.26486000e+04, -1.00000000e+02, -1.50000000e+02,\n",
       "         8.94371000e-01,  5.63535000e-02,             nan,\n",
       "         1.05119000e+00,  2.00000000e+00, -1.10000000e+01,\n",
       "         8.33333333e-02,  5.00000000e-01,  8.33333333e-02,\n",
       "         1.08405000e+02,  1.00000000e+00,  1.06000000e+00,\n",
       "         1.09000000e+00,  1.16000000e+00,  1.60000000e+01]])"
      ]
     },
     "execution_count": 11,
     "metadata": {},
     "output_type": "execute_result"
    }
   ],
   "source": [
    "input.BSk24.to_numpy()"
   ]
  },
  {
   "cell_type": "code",
   "execution_count": 17,
   "metadata": {},
   "outputs": [],
   "source": [
    "bsk24_param = input.data.BSk24\n",
    "bsk24_mass_table = input.data.BSk24_MASS_TABLE\n",
    "bsk24_varians_param = input.data.BSk24_VARIANS\n",
    "bsk24_varians_mass_table = input.data.BSk24_VARIANS_MASS_TABLE\n",
    "\n",
    "# Sampling the varian\n",
    "varian_number = 5 # Pick any number between 1 and 10\n",
    "varian_param = bsk24_varians_param[bsk24_varians_param['varian_id']==varian_number]\n",
    "varian_mass_table = bsk24_varians_mass_table[bsk24_varians_mass_table['varian_id']==varian_number]\n",
    "selected_varian = pd.merge(varian_mass_table, varian_param, on='varian_id')\n",
    "selected_varian = selected_varian.sample(frac=0.1).reset_index(drop=True)\n",
    "\n",
    "Z_bsk24 = bsk24_mass_table['Z']\n",
    "N_bsk24 = bsk24_mass_table['N']\n",
    "m_bsk24 = bsk24_mass_table['m']\n",
    "param_bsk24 = input.data.BSk24.to_numpy() \n",
    "\n",
    "Z_bsk24_varian = selected_varian['Z']\n",
    "N_bsk24_varian = selected_varian['N']\n",
    "m_bsk24_varian = selected_varian['m']\n",
    "params_bsk24_varian = selected_varian.iloc[:,5:26].to_numpy()\n",
    "\n",
    "# Generate the input date\n",
    "Z = np.concatenate((Z_bsk24, Z_bsk24_varian))\n",
    "N = np.concatenate((N_bsk24, N_bsk24_varian))\n",
    "m = np.concatenate((m_bsk24, m_bsk24_varian))\n",
    "params = np.concatenate((param_bsk24, params_bsk24_varian))"
   ]
  },
  {
   "cell_type": "code",
   "execution_count": 18,
   "metadata": {},
   "outputs": [
    {
     "data": {
      "text/plain": [
       "array([[-3.970290e+03,  3.957660e+02,  0.000000e+00, ...,  1.090000e+00,\n",
       "         1.160000e+00,  1.600000e+01],\n",
       "       [-3.970318e+03,  3.959483e+02,  1.000050e-05, ...,  1.053995e+00,\n",
       "         1.078238e+00,  1.634200e+01],\n",
       "       [-3.970318e+03,  3.959483e+02,  1.000050e-05, ...,  1.053995e+00,\n",
       "         1.078238e+00,  1.634200e+01],\n",
       "       ...,\n",
       "       [-3.970318e+03,  3.959483e+02,  1.000050e-05, ...,  1.053995e+00,\n",
       "         1.078238e+00,  1.634200e+01],\n",
       "       [-3.970318e+03,  3.959483e+02,  1.000050e-05, ...,  1.053995e+00,\n",
       "         1.078238e+00,  1.634200e+01],\n",
       "       [-3.970318e+03,  3.959483e+02,  1.000050e-05, ...,  1.053995e+00,\n",
       "         1.078238e+00,  1.634200e+01]])"
      ]
     },
     "execution_count": 18,
     "metadata": {},
     "output_type": "execute_result"
    }
   ],
   "source": [
    "params"
   ]
  },
  {
   "cell_type": "code",
   "execution_count": 19,
   "metadata": {},
   "outputs": [
    {
     "data": {
      "text/plain": [
       "(74, 21)"
      ]
     },
     "execution_count": 19,
     "metadata": {},
     "output_type": "execute_result"
    }
   ],
   "source": [
    "params.shape"
   ]
  },
  {
   "cell_type": "code",
   "execution_count": 29,
   "metadata": {},
   "outputs": [
    {
     "data": {
      "text/plain": [
       "8392"
      ]
     },
     "execution_count": 29,
     "metadata": {},
     "output_type": "execute_result"
    }
   ],
   "source": [
    "len(Z_bsk24)"
   ]
  },
  {
   "cell_type": "code",
   "execution_count": null,
   "metadata": {},
   "outputs": [],
   "source": [
    "param_bsk24 = np.tile(param_bsk24, (len(Z_bsk24), 1))"
   ]
  },
  {
   "cell_type": "code",
   "execution_count": 37,
   "metadata": {},
   "outputs": [
    {
     "data": {
      "text/plain": [
       "(8392, 21)"
      ]
     },
     "execution_count": 37,
     "metadata": {},
     "output_type": "execute_result"
    }
   ],
   "source": [
    "param_bsk24.shape\n"
   ]
  },
  {
   "cell_type": "code",
   "execution_count": 28,
   "metadata": {},
   "outputs": [
    {
     "name": "stdout",
     "output_type": "stream",
     "text": [
      "[[1 2 3 4]\n",
      " [1 2 3 4]\n",
      " [1 2 3 4]\n",
      " [1 2 3 4]\n",
      " [1 2 3 4]\n",
      " [1 2 3 4]\n",
      " [1 2 3 4]\n",
      " [1 2 3 4]\n",
      " [1 2 3 4]\n",
      " [1 2 3 4]\n",
      " [1 2 3 4]\n",
      " [1 2 3 4]\n",
      " [1 2 3 4]\n",
      " [1 2 3 4]\n",
      " [1 2 3 4]\n",
      " [1 2 3 4]\n",
      " [1 2 3 4]\n",
      " [1 2 3 4]\n",
      " [1 2 3 4]\n",
      " [1 2 3 4]]\n",
      "(20, 4)\n"
     ]
    }
   ],
   "source": [
    "import numpy as np\n",
    "\n",
    "# Example array with one row\n",
    "arr = np.array([1, 2, 3, 4])  # Shape (1, 4)\n",
    "\n",
    "# Repeat the array to create 20 identical rows\n",
    "arr_repeated = np.tile(arr, (20, 1))  # Repeat the row 20 times along the row axis\n",
    "\n",
    "print(arr_repeated)\n",
    "print(arr_repeated.shape)  # Should output (20, 4)\n"
   ]
  },
  {
   "cell_type": "code",
   "execution_count": 35,
   "metadata": {},
   "outputs": [],
   "source": [
    "params = np.concatenate((param_bsk24, params_bsk24_varian))"
   ]
  },
  {
   "cell_type": "code",
   "execution_count": 36,
   "metadata": {},
   "outputs": [
    {
     "data": {
      "text/plain": [
       "(8465, 21)"
      ]
     },
     "execution_count": 36,
     "metadata": {},
     "output_type": "execute_result"
    }
   ],
   "source": [
    "params.shape"
   ]
  },
  {
   "cell_type": "code",
   "execution_count": 38,
   "metadata": {},
   "outputs": [
    {
     "ename": "ValueError",
     "evalue": "could not broadcast input array from shape (21,8465) into shape (8465,8465)",
     "output_type": "error",
     "traceback": [
      "\u001b[0;31m---------------------------------------------------------------------------\u001b[0m",
      "\u001b[0;31mValueError\u001b[0m                                Traceback (most recent call last)",
      "Cell \u001b[0;32mIn[38], line 11\u001b[0m\n\u001b[1;32m      8\u001b[0m \u001b[38;5;28;01massert\u001b[39;00m wouter_dat\u001b[38;5;241m.\u001b[39mshape[\u001b[38;5;241m0\u001b[39m] \u001b[38;5;241m==\u001b[39m param\u001b[38;5;241m.\u001b[39mshape[\u001b[38;5;241m0\u001b[39m], \u001b[38;5;124m\"\u001b[39m\u001b[38;5;124mRows do not match!\u001b[39m\u001b[38;5;124m\"\u001b[39m\n\u001b[1;32m     10\u001b[0m \u001b[38;5;66;03m# Insert param starting from column 10 (11th column) along axis 1\u001b[39;00m\n\u001b[0;32m---> 11\u001b[0m complete_dat \u001b[38;5;241m=\u001b[39m \u001b[43mnp\u001b[49m\u001b[38;5;241;43m.\u001b[39;49m\u001b[43minsert\u001b[49m\u001b[43m(\u001b[49m\u001b[43mwouter_dat\u001b[49m\u001b[43m,\u001b[49m\u001b[43m \u001b[49m\u001b[38;5;241;43m10\u001b[39;49m\u001b[43m,\u001b[49m\u001b[43m \u001b[49m\u001b[43mparam\u001b[49m\u001b[43m,\u001b[49m\u001b[43m \u001b[49m\u001b[43maxis\u001b[49m\u001b[38;5;241;43m=\u001b[39;49m\u001b[38;5;241;43m1\u001b[39;49m\u001b[43m)\u001b[49m\n\u001b[1;32m     13\u001b[0m \u001b[38;5;28mprint\u001b[39m(complete_dat\u001b[38;5;241m.\u001b[39mshape)  \u001b[38;5;66;03m# Should output (8465, 32)\u001b[39;00m\n",
      "File \u001b[0;32m/opt/miniconda3/envs/tf/lib/python3.10/site-packages/numpy/lib/function_base.py:5525\u001b[0m, in \u001b[0;36minsert\u001b[0;34m(arr, obj, values, axis)\u001b[0m\n\u001b[1;32m   5523\u001b[0m new[\u001b[38;5;28mtuple\u001b[39m(slobj)] \u001b[38;5;241m=\u001b[39m arr[\u001b[38;5;28mtuple\u001b[39m(slobj)]\n\u001b[1;32m   5524\u001b[0m slobj[axis] \u001b[38;5;241m=\u001b[39m \u001b[38;5;28mslice\u001b[39m(index, index\u001b[38;5;241m+\u001b[39mnumnew)\n\u001b[0;32m-> 5525\u001b[0m \u001b[43mnew\u001b[49m\u001b[43m[\u001b[49m\u001b[38;5;28;43mtuple\u001b[39;49m\u001b[43m(\u001b[49m\u001b[43mslobj\u001b[49m\u001b[43m)\u001b[49m\u001b[43m]\u001b[49m \u001b[38;5;241m=\u001b[39m values\n\u001b[1;32m   5526\u001b[0m slobj[axis] \u001b[38;5;241m=\u001b[39m \u001b[38;5;28mslice\u001b[39m(index\u001b[38;5;241m+\u001b[39mnumnew, \u001b[38;5;28;01mNone\u001b[39;00m)\n\u001b[1;32m   5527\u001b[0m slobj2 \u001b[38;5;241m=\u001b[39m [\u001b[38;5;28mslice\u001b[39m(\u001b[38;5;28;01mNone\u001b[39;00m)] \u001b[38;5;241m*\u001b[39m ndim\n",
      "\u001b[0;31mValueError\u001b[0m: could not broadcast input array from shape (21,8465) into shape (8465,8465)"
     ]
    }
   ],
   "source": [
    "import numpy as np\n",
    "\n",
    "# Example data\n",
    "wouter_dat = np.random.randn(8465, 11)  # Shape (8465, 11)\n",
    "param = np.random.randn(8465, 21)       # Shape (8465, 21)\n",
    "\n",
    "# Ensure param is of shape (8465, 21)\n",
    "assert wouter_dat.shape[0] == param.shape[0], \"Rows do not match!\"\n",
    "\n",
    "# Insert param starting from column 10 (11th column) along axis 1\n",
    "complete_dat = np.insert(wouter_dat, 10, param, axis=1)\n",
    "\n",
    "print(complete_dat.shape)  # Should output (8465, 32)\n"
   ]
  },
  {
   "cell_type": "code",
   "execution_count": 39,
   "metadata": {},
   "outputs": [
    {
     "data": {
      "text/plain": [
       "(8465, 11)"
      ]
     },
     "execution_count": 39,
     "metadata": {},
     "output_type": "execute_result"
    }
   ],
   "source": [
    "wouter_dat.shape"
   ]
  },
  {
   "cell_type": "code",
   "execution_count": 40,
   "metadata": {},
   "outputs": [
    {
     "data": {
      "text/plain": [
       "(8465, 21)"
      ]
     },
     "execution_count": 40,
     "metadata": {},
     "output_type": "execute_result"
    }
   ],
   "source": [
    "param.shape"
   ]
  },
  {
   "cell_type": "code",
   "execution_count": 44,
   "metadata": {},
   "outputs": [
    {
     "name": "stderr",
     "output_type": "stream",
     "text": [
      "/opt/miniconda3/envs/tf/lib/python3.10/site-packages/keras/src/saving/saving_lib.py:719: UserWarning: Skipping variable loading for optimizer 'adadelta', because it has 2 variables whereas the saved optimizer has 10 variables. \n",
      "  saveable.load_own_variables(weights_store.get(inner_path))\n"
     ]
    },
    {
     "ename": "NameError",
     "evalue": "name 'generate_mass_table' is not defined",
     "output_type": "error",
     "traceback": [
      "\u001b[0;31m---------------------------------------------------------------------------\u001b[0m",
      "\u001b[0;31mNameError\u001b[0m                                 Traceback (most recent call last)",
      "Cell \u001b[0;32mIn[44], line 24\u001b[0m\n\u001b[1;32m     21\u001b[0m model\u001b[38;5;241m.\u001b[39mload_weights(\u001b[38;5;124m'\u001b[39m\u001b[38;5;124mtraining/weight_best/sample_test=[150,25,25].batch=4.epoch=100.stage3.weights.h5\u001b[39m\u001b[38;5;124m'\u001b[39m)\n\u001b[1;32m     22\u001b[0m selected_varian \u001b[38;5;241m=\u001b[39m pd\u001b[38;5;241m.\u001b[39mmerge(varian_mass_table, varian_param, on\u001b[38;5;241m=\u001b[39m\u001b[38;5;124m'\u001b[39m\u001b[38;5;124mvarian_id\u001b[39m\u001b[38;5;124m'\u001b[39m)\n\u001b[0;32m---> 24\u001b[0m \u001b[43mgenerate_mass_table\u001b[49m(model, selected_varian, training_label)\n",
      "\u001b[0;31mNameError\u001b[0m: name 'generate_mass_table' is not defined"
     ]
    }
   ],
   "source": [
    "\"\"\"\n",
    "Importing required libraries\n",
    "\"\"\"\n",
    "#External Library\n",
    "import numpy as np\n",
    "import pandas as pd\n",
    "from keras import models, layers, callbacks\n",
    "import os\n",
    "import tensorflow as tf\n",
    "import sys\n",
    "import ast\n",
    "\n",
    "#Internal Library\n",
    "from input import *\n",
    "from model import *\n",
    "from training import *\n",
    "from output import *\n",
    "from utils import *\n",
    "\n",
    "model = wouter_model(31, 'adadelta')\n",
    "model.load_weights('training/weight_best/sample_test=[150,25,25].batch=4.epoch=100.stage3.weights.h5')\n",
    "selected_varian = pd.merge(varian_mass_table, varian_param, on='varian_id')\n",
    "\n",
    "generate_mass_table(model, selected_varian, training_label)"
   ]
  },
  {
   "cell_type": "code",
   "execution_count": null,
   "metadata": {},
   "outputs": [],
   "source": []
  }
 ],
 "metadata": {
  "kernelspec": {
   "display_name": "tf",
   "language": "python",
   "name": "python3"
  },
  "language_info": {
   "codemirror_mode": {
    "name": "ipython",
    "version": 3
   },
   "file_extension": ".py",
   "mimetype": "text/x-python",
   "name": "python",
   "nbconvert_exporter": "python",
   "pygments_lexer": "ipython3",
   "version": "3.10.15"
  }
 },
 "nbformat": 4,
 "nbformat_minor": 2
}
