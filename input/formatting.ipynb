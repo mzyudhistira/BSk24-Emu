{
 "cells": [
  {
   "cell_type": "code",
   "execution_count": 1,
   "metadata": {},
   "outputs": [],
   "source": [
    "import pandas as pd\n",
    "import numpy as np"
   ]
  },
  {
   "cell_type": "code",
   "execution_count": 11,
   "metadata": {},
   "outputs": [],
   "source": [
    "def format_bsk24_varians(file):\n",
    "    # Get the parameters tab\n",
    "    params = pd.read_csv(file, nrows=43, sep=r\"\\s+\", header=None).T\n",
    "    \n",
    "    header_row = params.head(1).values.tolist()[0]\n",
    "    params.columns = header_row\n",
    "    params = params.drop(0)\n",
    "    params['sampling'].astype(int)\n",
    "\n",
    "    # Get the mass tables\n",
    "    mass_dict = []\n",
    "    i = 1\n",
    "\n",
    "    for col in mass_table.loc[:, 'sample_1':'sample_32119']:\n",
    "        sample_mass_table = mass_table[['Z', 'N', 'A', f'sample_{i}']]\n",
    "        sample_mass_table = sample_mass_table.rename(columns={f'sample_{i}':'mass'})\n",
    "        formatted_dict = sample_mass_table.to_dict()\n",
    "\n",
    "        mass_dict.append(formatted_dict)\n",
    "        i += 1\n",
    "\n",
    "    # Get the rms result\n",
    "    rms_data = pd.read_csv(file, skiprows=774, sep=r\"\\s+\", header=None).T\n",
    "    header_row = rms_data.head(1).values.tolist()[0]\n",
    "    rms_data.columns = header_row\n",
    "    rms_data = rms_data.drop(0)\n",
    "\n",
    "    # Combine it to a single df\n",
    "    combined_data = pd.concat([params, rms_data], axis=1)\n",
    "    combined_data['mass_table'] = mass_dict\n",
    "\n",
    "    # Export to pandas readable format\n",
    "    combined_data.to_csv('formatted_bsk24_varians.dat', sep=';', index=False)\n",
    "\n",
    "    return"
   ]
  },
  {
   "cell_type": "code",
   "execution_count": 12,
   "metadata": {},
   "outputs": [],
   "source": [
    "file = 'literature_data/mass_all.dat_pp1'\n",
    "format_bsk24_varians(file)"
   ]
  },
  {
   "cell_type": "code",
   "execution_count": null,
   "metadata": {},
   "outputs": [],
   "source": []
  }
 ],
 "metadata": {
  "kernelspec": {
   "display_name": "tf",
   "language": "python",
   "name": "python3"
  },
  "language_info": {
   "codemirror_mode": {
    "name": "ipython",
    "version": 3
   },
   "file_extension": ".py",
   "mimetype": "text/x-python",
   "name": "python",
   "nbconvert_exporter": "python",
   "pygments_lexer": "ipython3",
   "version": "3.10.15"
  }
 },
 "nbformat": 4,
 "nbformat_minor": 2
}
